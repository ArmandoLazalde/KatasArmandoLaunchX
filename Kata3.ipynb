{
 "cells": [
  {
   "cell_type": "markdown",
   "metadata": {},
   "source": [
    "Código para crear una variable que guarde la velocidad del asteroide.\n",
    "\n",
    "Expresión de prueba para calcular si necesita una advertencia.\n",
    " "
   ]
  },
  {
   "cell_type": "code",
   "execution_count": 2,
   "metadata": {},
   "outputs": [
    {
     "name": "stdout",
     "output_type": "stream",
     "text": [
      "Advertencia! Se acerca un asteroide a la Tierra\n"
     ]
    }
   ],
   "source": [
    "velocidad_as = 49\n",
    "\n",
    "if velocidad_as > 25:\n",
    "    print('Advertencia! Se acerca un asteroide a la Tierra')\n",
    "else:\n",
    "    print('El asteroide no representa un peligro para la Tierra')\n"
   ]
  },
  {
   "cell_type": "code",
   "execution_count": 4,
   "metadata": {},
   "outputs": [
    {
     "name": "stdout",
     "output_type": "stream",
     "text": [
      "El asteroide no representa un peligro para la Tierra\n"
     ]
    }
   ],
   "source": [
    "velocidad_as = 19\n",
    "\n",
    "if velocidad_as > 20:\n",
    "    print('Advertencia! Un asteroide entro a la atmósfera de la Tierra')\n",
    "elif velocidad_as == 20:\n",
    "    print('Advertencia! Un asteroide entro a la atmósfera de la Tierra')\n",
    "else:\n",
    "    print('El asteroide no representa un peligro para la Tierra') "
   ]
  },
  {
   "cell_type": "code",
   "execution_count": 5,
   "metadata": {},
   "outputs": [
    {
     "name": "stdout",
     "output_type": "stream",
     "text": [
      "Alerta! Miren arriba\n"
     ]
    }
   ],
   "source": [
    "tamaño_as = 25\n",
    "velocidad_as = 40  \n",
    "\n",
    "if tamaño_as > 25 and tamaño_as < 1000:\n",
    "    print('Advertencia, un asteroide peligroso de acerca a la Tierra')\n",
    "elif velocidad_as >= 20:\n",
    "    print('Alerta! Miren arriba')\n",
    "else: \n",
    "    print('Sigan con sus actividades')"
   ]
  }
 ],
 "metadata": {
  "interpreter": {
   "hash": "25c701650030d57fd17b06d6dc43abec28085ec5dad984dc855f3a6ff4798b48"
  },
  "kernelspec": {
   "display_name": "Python 3.10.0 64-bit",
   "language": "python",
   "name": "python3"
  },
  "language_info": {
   "codemirror_mode": {
    "name": "ipython",
    "version": 3
   },
   "file_extension": ".py",
   "mimetype": "text/x-python",
   "name": "python",
   "nbconvert_exporter": "python",
   "pygments_lexer": "ipython3",
   "version": "3.9.7"
  },
  "orig_nbformat": 4
 },
 "nbformat": 4,
 "nbformat_minor": 2
}
